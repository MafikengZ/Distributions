{
  "nbformat": 4,
  "nbformat_minor": 0,
  "metadata": {
    "kernelspec": {
      "display_name": "Python 3",
      "language": "python",
      "name": "python3"
    },
    "language_info": {
      "codemirror_mode": {
        "name": "ipython",
        "version": 3
      },
      "file_extension": ".py",
      "mimetype": "text/x-python",
      "name": "python",
      "nbconvert_exporter": "python",
      "pygments_lexer": "ipython3",
      "version": "3.8.3"
    },
    "colab": {
      "name": "feature_selection",
      "provenance": [],
      "collapsed_sections": [
        "Luzs2-Vm3164",
        "qiHLhz4U317B",
        "T9sybIvj317H"
      ],
      "include_colab_link": true
    },
    "accelerator": "GPU"
  },
  "cells": [
    {
      "cell_type": "markdown",
      "metadata": {
        "id": "view-in-github",
        "colab_type": "text"
      },
      "source": [
        "<a href=\"https://colab.research.google.com/github/MafikengZ/Distributions/blob/main/feature_selection.ipynb\" target=\"_parent\"><img src=\"https://colab.research.google.com/assets/colab-badge.svg\" alt=\"Open In Colab\"/></a>"
      ]
    },
    {
      "cell_type": "code",
      "metadata": {
        "id": "Bowg-w0P315w"
      },
      "source": [
        "%matplotlib inline\n",
        "import numpy as np\n",
        "import pandas as pd\n",
        "\n",
        "import seaborn as sns\n",
        "import matplotlib.pyplot as plt\n",
        "\n",
        "import warnings\n",
        "warnings.filterwarnings('ignore')"
      ],
      "execution_count": 2,
      "outputs": []
    },
    {
      "cell_type": "code",
      "metadata": {
        "id": "2KeC2N0q3158"
      },
      "source": [
        "#Load dataset\n",
        "df_train = pd.read_csv(\"sample_data/df_train.csv\", index_col=0)\n",
        "df_test = pd.read_csv(\"sample_data/df_test.csv\", index_col=0)\n",
        "\n",
        "#Insurance dataset\n",
        "copy_train = df_train.copy()\n",
        "copy_test = df_test.copy()"
      ],
      "execution_count": 4,
      "outputs": []
    },
    {
      "cell_type": "code",
      "metadata": {
        "id": "TaiWw7o8315-"
      },
      "source": [
        "sns.set(style=\"darkgrid\") # set seaborn style"
      ],
      "execution_count": 5,
      "outputs": []
    },
    {
      "cell_type": "code",
      "metadata": {
        "id": "6CNp8Oip316A",
        "colab": {
          "base_uri": "https://localhost:8080/"
        },
        "outputId": "4df7f6e1-99be-4e3d-d65c-cb3f084339d6"
      },
      "source": [
        "df_train.isna().sum()"
      ],
      "execution_count": 6,
      "outputs": [
        {
          "output_type": "execute_result",
          "data": {
            "text/plain": [
              "time                       0\n",
              "Madrid_wind_speed          0\n",
              "Valencia_wind_deg          0\n",
              "Bilbao_rain_1h             0\n",
              "Valencia_wind_speed        0\n",
              "Seville_humidity           0\n",
              "Madrid_humidity            0\n",
              "Bilbao_clouds_all          0\n",
              "Bilbao_wind_speed          0\n",
              "Seville_clouds_all         0\n",
              "Bilbao_wind_deg            0\n",
              "Barcelona_wind_speed       0\n",
              "Barcelona_wind_deg         0\n",
              "Madrid_clouds_all          0\n",
              "Seville_wind_speed         0\n",
              "Barcelona_rain_1h          0\n",
              "Seville_pressure           0\n",
              "Seville_rain_1h            0\n",
              "Bilbao_snow_3h             0\n",
              "Barcelona_pressure         0\n",
              "Seville_rain_3h            0\n",
              "Madrid_rain_1h             0\n",
              "Barcelona_rain_3h          0\n",
              "Valencia_snow_3h           0\n",
              "Madrid_weather_id          0\n",
              "Barcelona_weather_id       0\n",
              "Bilbao_pressure            0\n",
              "Seville_weather_id         0\n",
              "Valencia_pressure       2068\n",
              "Seville_temp_max           0\n",
              "Madrid_pressure            0\n",
              "Valencia_temp_max          0\n",
              "Valencia_temp              0\n",
              "Bilbao_weather_id          0\n",
              "Seville_temp               0\n",
              "Valencia_humidity          0\n",
              "Valencia_temp_min          0\n",
              "Barcelona_temp_max         0\n",
              "Madrid_temp_max            0\n",
              "Barcelona_temp             0\n",
              "Bilbao_temp_min            0\n",
              "Bilbao_temp                0\n",
              "Barcelona_temp_min         0\n",
              "Bilbao_temp_max            0\n",
              "Seville_temp_min           0\n",
              "Madrid_temp                0\n",
              "Madrid_temp_min            0\n",
              "load_shortfall_3h          0\n",
              "dtype: int64"
            ]
          },
          "metadata": {},
          "execution_count": 6
        }
      ]
    },
    {
      "cell_type": "code",
      "metadata": {
        "id": "rdFdSVfK316C",
        "colab": {
          "base_uri": "https://localhost:8080/"
        },
        "outputId": "c42d3231-881f-4e84-e65f-a2b28f43a950"
      },
      "source": [
        "print(f'Train data shape: {df_train.shape}  |  Test data shape: {df_test.shape}')"
      ],
      "execution_count": 7,
      "outputs": [
        {
          "output_type": "stream",
          "name": "stdout",
          "text": [
            "Train data shape: (8763, 48)  |  Test data shape: (2920, 47)\n"
          ]
        }
      ]
    },
    {
      "cell_type": "code",
      "metadata": {
        "id": "aQ3TlKKp316E",
        "colab": {
          "base_uri": "https://localhost:8080/"
        },
        "outputId": "d6b15148-55c3-4005-d3c0-0c26d24bc348"
      },
      "source": [
        "missing_values_train = df_train.Valencia_pressure.isna().sum()\n",
        "print(f'Train data Missing Values: {missing_values_train}  |   Percentage: {round(( missing_values_train/ df_train.Valencia_pressure.shape[0]) *100, 2)}%')"
      ],
      "execution_count": 8,
      "outputs": [
        {
          "output_type": "stream",
          "name": "stdout",
          "text": [
            "Train data Missing Values: 2068  |   Percentage: 23.6%\n"
          ]
        }
      ]
    },
    {
      "cell_type": "code",
      "metadata": {
        "id": "NlIL1RMyCULF"
      },
      "source": [
        ""
      ],
      "execution_count": 8,
      "outputs": []
    },
    {
      "cell_type": "code",
      "metadata": {
        "id": "JV9-g-OJ316G",
        "colab": {
          "base_uri": "https://localhost:8080/"
        },
        "outputId": "d59c38d8-ef0b-472c-8492-3b1bc222a5c4"
      },
      "source": [
        "missing_values_test = df_test.Valencia_pressure.isna().sum()\n",
        "print(f'Train data Missing Values: {missing_values_test}  |   Percentage: {round(( missing_values_test / df_train.Valencia_pressure.shape[0]) *100, 2)}%')"
      ],
      "execution_count": 9,
      "outputs": [
        {
          "output_type": "stream",
          "name": "stdout",
          "text": [
            "Train data Missing Values: 454  |   Percentage: 5.18%\n"
          ]
        }
      ]
    },
    {
      "cell_type": "code",
      "metadata": {
        "id": "thJwBgQR316K"
      },
      "source": [
        "mode = pd.concat([df_train.Valencia_pressure , df_test.Valencia_pressure]).mode()"
      ],
      "execution_count": 10,
      "outputs": []
    },
    {
      "cell_type": "code",
      "metadata": {
        "id": "OkdOpPRS316N"
      },
      "source": [
        "#Impute missing values in Valencia_pressure with mean\n",
        "df_train.Valencia_pressure.fillna(mode[0] , inplace=True)\n",
        "df_test.Valencia_pressure.fillna(mode[0], inplace=True)"
      ],
      "execution_count": 11,
      "outputs": []
    },
    {
      "cell_type": "code",
      "metadata": {
        "id": "KTUemrOx316Q",
        "colab": {
          "base_uri": "https://localhost:8080/"
        },
        "outputId": "567d9d0a-154b-4dc0-e90d-a2d96823da40"
      },
      "source": [
        "missing_values_train = df_train.Valencia_pressure.isna().sum()\n",
        "print(f'Train data Missing Values: {missing_values_train}  |   Percentage: {round(( missing_values_train/ df_train.Valencia_pressure.shape[0]) *100, 2)}%')"
      ],
      "execution_count": 12,
      "outputs": [
        {
          "output_type": "stream",
          "name": "stdout",
          "text": [
            "Train data Missing Values: 0  |   Percentage: 0.0%\n"
          ]
        }
      ]
    },
    {
      "cell_type": "code",
      "metadata": {
        "id": "b7Ky0Y0q316S"
      },
      "source": [
        ""
      ],
      "execution_count": 12,
      "outputs": []
    },
    {
      "cell_type": "code",
      "metadata": {
        "id": "iOz-SUbc316T",
        "colab": {
          "base_uri": "https://localhost:8080/"
        },
        "outputId": "b6bf3f88-4567-4a39-f4f9-4abc3dddcc55"
      },
      "source": [
        "print(f'Sum of unique object: {df_train.Valencia_wind_deg.value_counts().count()}')\n",
        "df_train.Valencia_wind_deg.unique()"
      ],
      "execution_count": 13,
      "outputs": [
        {
          "output_type": "stream",
          "name": "stdout",
          "text": [
            "Sum of unique object: 10\n"
          ]
        },
        {
          "output_type": "execute_result",
          "data": {
            "text/plain": [
              "array(['level_5', 'level_10', 'level_9', 'level_8', 'level_7', 'level_6',\n",
              "       'level_4', 'level_3', 'level_1', 'level_2'], dtype=object)"
            ]
          },
          "metadata": {},
          "execution_count": 13
        }
      ]
    },
    {
      "cell_type": "code",
      "metadata": {
        "id": "Zkfhmsm3316U",
        "colab": {
          "base_uri": "https://localhost:8080/"
        },
        "outputId": "dfc70b39-ab47-44fd-9ddc-b479ce4dc486"
      },
      "source": [
        "print(f'Sum of unique object: {df_train.Seville_pressure.value_counts().count()}')\n",
        "df_train.Seville_pressure.unique()"
      ],
      "execution_count": 14,
      "outputs": [
        {
          "output_type": "stream",
          "name": "stdout",
          "text": [
            "Sum of unique object: 25\n"
          ]
        },
        {
          "output_type": "execute_result",
          "data": {
            "text/plain": [
              "array(['sp25', 'sp23', 'sp24', 'sp21', 'sp16', 'sp9', 'sp15', 'sp19',\n",
              "       'sp22', 'sp11', 'sp8', 'sp4', 'sp6', 'sp13', 'sp17', 'sp20',\n",
              "       'sp18', 'sp14', 'sp12', 'sp5', 'sp10', 'sp7', 'sp3', 'sp2', 'sp1'],\n",
              "      dtype=object)"
            ]
          },
          "metadata": {},
          "execution_count": 14
        }
      ]
    },
    {
      "cell_type": "code",
      "metadata": {
        "id": "mAZ8VAqf316V"
      },
      "source": [
        ""
      ],
      "execution_count": 14,
      "outputs": []
    },
    {
      "cell_type": "code",
      "metadata": {
        "id": "nXA8dD09316W"
      },
      "source": [
        "from sklearn.impute import SimpleImputer\n",
        "from sklearn.preprocessing import OrdinalEncoder, OneHotEncoder , StandardScaler , MinMaxScaler\n",
        "from sklearn.model_selection import train_test_split , cross_validate"
      ],
      "execution_count": 15,
      "outputs": []
    },
    {
      "cell_type": "code",
      "metadata": {
        "id": "0EGXuo9j316Y"
      },
      "source": [
        "#Impute Categirical features using OrdinalEncoder()\n",
        "enc = OrdinalEncoder()"
      ],
      "execution_count": 16,
      "outputs": []
    },
    {
      "cell_type": "code",
      "metadata": {
        "id": "c95rxjFo316Y"
      },
      "source": [
        "df_train.Valencia_wind_deg = enc.fit_transform(df_train[['Valencia_wind_deg']])\n",
        "df_train.Seville_pressure = enc.fit_transform(df_train[['Seville_pressure']])"
      ],
      "execution_count": 17,
      "outputs": []
    },
    {
      "cell_type": "code",
      "metadata": {
        "id": "KTvPosylQL5m"
      },
      "source": [
        ""
      ],
      "execution_count": 17,
      "outputs": []
    },
    {
      "cell_type": "code",
      "metadata": {
        "id": "swYunehJ316a"
      },
      "source": [
        "df_test.Valencia_wind_deg = enc.fit_transform(df_test[['Valencia_wind_deg']])\n",
        "df_test.Seville_pressure = enc.fit_transform(df_test[['Seville_pressure']])"
      ],
      "execution_count": 18,
      "outputs": []
    },
    {
      "cell_type": "code",
      "metadata": {
        "id": "KXC826Ck316b",
        "colab": {
          "base_uri": "https://localhost:8080/"
        },
        "outputId": "a31d99c3-1919-4ab0-d702-d135fee15ae3"
      },
      "source": [
        "df_test.dtypes.value_counts()"
      ],
      "execution_count": 19,
      "outputs": [
        {
          "output_type": "execute_result",
          "data": {
            "text/plain": [
              "float64    44\n",
              "int64       2\n",
              "object      1\n",
              "dtype: int64"
            ]
          },
          "metadata": {},
          "execution_count": 19
        }
      ]
    },
    {
      "cell_type": "code",
      "metadata": {
        "id": "MTPWQrGN316c"
      },
      "source": [
        ""
      ],
      "execution_count": 19,
      "outputs": []
    },
    {
      "cell_type": "code",
      "metadata": {
        "id": "FqOU3H3Y316c"
      },
      "source": [
        "# Transform Features\n",
        "\n",
        "import datetime as dt\n",
        "\n",
        "df_train['time'] = pd.to_datetime(df_train['time'])\n",
        "df_test['time'] = pd.to_datetime(df_test['time'])\n",
        "df_test_copy = df_test.copy()\n",
        "\n",
        "\n",
        "# day\n",
        "df_train['Day'] = df_train['time'].dt.day\n",
        "df_test['Day'] = df_test['time'].dt.day\n",
        "\n",
        "# month\n",
        "df_train['Month'] = df_train['time'].dt.month\n",
        "df_test['Month'] = df_test['time'].dt.month\n",
        "\n",
        "# year\n",
        "df_train['Year'] = df_train['time'].dt.year\n",
        "df_test['Year'] = df_test['time'].dt.year\n",
        "\n",
        "# hour\n",
        "df_train['Start_hour'] = df_train['time'].dt.hour\n",
        "df_test['Start_hour'] = df_test['time'].dt.hour\n",
        "\n",
        "# Drop Feature\n",
        "df_train.drop(['time'] , axis=1 , inplace=True)\n",
        "df_test.drop(['time'] , axis=1 , inplace=True)"
      ],
      "execution_count": 20,
      "outputs": []
    },
    {
      "cell_type": "code",
      "metadata": {
        "id": "DQUQrBUk316e"
      },
      "source": [
        "columns = df_train.drop(['load_shortfall_3h'] , axis=1).columns"
      ],
      "execution_count": 21,
      "outputs": []
    },
    {
      "cell_type": "code",
      "metadata": {
        "id": "u42xAR1q316f",
        "colab": {
          "base_uri": "https://localhost:8080/",
          "height": 224
        },
        "outputId": "ddf8e314-561f-48b7-a399-964657db5188"
      },
      "source": [
        "df_train.head()"
      ],
      "execution_count": 22,
      "outputs": [
        {
          "output_type": "execute_result",
          "data": {
            "text/html": [
              "<div>\n",
              "<style scoped>\n",
              "    .dataframe tbody tr th:only-of-type {\n",
              "        vertical-align: middle;\n",
              "    }\n",
              "\n",
              "    .dataframe tbody tr th {\n",
              "        vertical-align: top;\n",
              "    }\n",
              "\n",
              "    .dataframe thead th {\n",
              "        text-align: right;\n",
              "    }\n",
              "</style>\n",
              "<table border=\"1\" class=\"dataframe\">\n",
              "  <thead>\n",
              "    <tr style=\"text-align: right;\">\n",
              "      <th></th>\n",
              "      <th>Madrid_wind_speed</th>\n",
              "      <th>Valencia_wind_deg</th>\n",
              "      <th>Bilbao_rain_1h</th>\n",
              "      <th>Valencia_wind_speed</th>\n",
              "      <th>Seville_humidity</th>\n",
              "      <th>Madrid_humidity</th>\n",
              "      <th>Bilbao_clouds_all</th>\n",
              "      <th>Bilbao_wind_speed</th>\n",
              "      <th>Seville_clouds_all</th>\n",
              "      <th>Bilbao_wind_deg</th>\n",
              "      <th>Barcelona_wind_speed</th>\n",
              "      <th>Barcelona_wind_deg</th>\n",
              "      <th>Madrid_clouds_all</th>\n",
              "      <th>Seville_wind_speed</th>\n",
              "      <th>Barcelona_rain_1h</th>\n",
              "      <th>Seville_pressure</th>\n",
              "      <th>Seville_rain_1h</th>\n",
              "      <th>Bilbao_snow_3h</th>\n",
              "      <th>Barcelona_pressure</th>\n",
              "      <th>Seville_rain_3h</th>\n",
              "      <th>Madrid_rain_1h</th>\n",
              "      <th>Barcelona_rain_3h</th>\n",
              "      <th>Valencia_snow_3h</th>\n",
              "      <th>Madrid_weather_id</th>\n",
              "      <th>Barcelona_weather_id</th>\n",
              "      <th>Bilbao_pressure</th>\n",
              "      <th>Seville_weather_id</th>\n",
              "      <th>Valencia_pressure</th>\n",
              "      <th>Seville_temp_max</th>\n",
              "      <th>Madrid_pressure</th>\n",
              "      <th>Valencia_temp_max</th>\n",
              "      <th>Valencia_temp</th>\n",
              "      <th>Bilbao_weather_id</th>\n",
              "      <th>Seville_temp</th>\n",
              "      <th>Valencia_humidity</th>\n",
              "      <th>Valencia_temp_min</th>\n",
              "      <th>Barcelona_temp_max</th>\n",
              "      <th>Madrid_temp_max</th>\n",
              "      <th>Barcelona_temp</th>\n",
              "      <th>Bilbao_temp_min</th>\n",
              "      <th>Bilbao_temp</th>\n",
              "      <th>Barcelona_temp_min</th>\n",
              "      <th>Bilbao_temp_max</th>\n",
              "      <th>Seville_temp_min</th>\n",
              "      <th>Madrid_temp</th>\n",
              "      <th>Madrid_temp_min</th>\n",
              "      <th>load_shortfall_3h</th>\n",
              "      <th>Day</th>\n",
              "      <th>Month</th>\n",
              "      <th>Year</th>\n",
              "      <th>Start_hour</th>\n",
              "    </tr>\n",
              "  </thead>\n",
              "  <tbody>\n",
              "    <tr>\n",
              "      <th>0</th>\n",
              "      <td>0.666667</td>\n",
              "      <td>5.0</td>\n",
              "      <td>0.0</td>\n",
              "      <td>0.666667</td>\n",
              "      <td>74.333333</td>\n",
              "      <td>64.000000</td>\n",
              "      <td>0.0</td>\n",
              "      <td>1.000000</td>\n",
              "      <td>0.0</td>\n",
              "      <td>223.333333</td>\n",
              "      <td>6.333333</td>\n",
              "      <td>42.666667</td>\n",
              "      <td>0.0</td>\n",
              "      <td>3.333333</td>\n",
              "      <td>0.0</td>\n",
              "      <td>17.0</td>\n",
              "      <td>0.0</td>\n",
              "      <td>0.0</td>\n",
              "      <td>1036.333333</td>\n",
              "      <td>0.0</td>\n",
              "      <td>0.0</td>\n",
              "      <td>0.0</td>\n",
              "      <td>0.0</td>\n",
              "      <td>800.0</td>\n",
              "      <td>800.0</td>\n",
              "      <td>1035.000000</td>\n",
              "      <td>800.0</td>\n",
              "      <td>1002.666667</td>\n",
              "      <td>274.254667</td>\n",
              "      <td>971.333333</td>\n",
              "      <td>269.888000</td>\n",
              "      <td>269.888000</td>\n",
              "      <td>800.0</td>\n",
              "      <td>274.254667</td>\n",
              "      <td>75.666667</td>\n",
              "      <td>269.888000</td>\n",
              "      <td>281.013000</td>\n",
              "      <td>265.938000</td>\n",
              "      <td>281.013000</td>\n",
              "      <td>269.338615</td>\n",
              "      <td>269.338615</td>\n",
              "      <td>281.013000</td>\n",
              "      <td>269.338615</td>\n",
              "      <td>274.254667</td>\n",
              "      <td>265.938000</td>\n",
              "      <td>265.938000</td>\n",
              "      <td>6715.666667</td>\n",
              "      <td>1</td>\n",
              "      <td>1</td>\n",
              "      <td>2015</td>\n",
              "      <td>3</td>\n",
              "    </tr>\n",
              "    <tr>\n",
              "      <th>1</th>\n",
              "      <td>0.333333</td>\n",
              "      <td>1.0</td>\n",
              "      <td>0.0</td>\n",
              "      <td>1.666667</td>\n",
              "      <td>78.333333</td>\n",
              "      <td>64.666667</td>\n",
              "      <td>0.0</td>\n",
              "      <td>1.000000</td>\n",
              "      <td>0.0</td>\n",
              "      <td>221.000000</td>\n",
              "      <td>4.000000</td>\n",
              "      <td>139.000000</td>\n",
              "      <td>0.0</td>\n",
              "      <td>3.333333</td>\n",
              "      <td>0.0</td>\n",
              "      <td>17.0</td>\n",
              "      <td>0.0</td>\n",
              "      <td>0.0</td>\n",
              "      <td>1037.333333</td>\n",
              "      <td>0.0</td>\n",
              "      <td>0.0</td>\n",
              "      <td>0.0</td>\n",
              "      <td>0.0</td>\n",
              "      <td>800.0</td>\n",
              "      <td>800.0</td>\n",
              "      <td>1035.666667</td>\n",
              "      <td>800.0</td>\n",
              "      <td>1004.333333</td>\n",
              "      <td>274.945000</td>\n",
              "      <td>972.666667</td>\n",
              "      <td>271.728333</td>\n",
              "      <td>271.728333</td>\n",
              "      <td>800.0</td>\n",
              "      <td>274.945000</td>\n",
              "      <td>71.000000</td>\n",
              "      <td>271.728333</td>\n",
              "      <td>280.561667</td>\n",
              "      <td>266.386667</td>\n",
              "      <td>280.561667</td>\n",
              "      <td>270.376000</td>\n",
              "      <td>270.376000</td>\n",
              "      <td>280.561667</td>\n",
              "      <td>270.376000</td>\n",
              "      <td>274.945000</td>\n",
              "      <td>266.386667</td>\n",
              "      <td>266.386667</td>\n",
              "      <td>4171.666667</td>\n",
              "      <td>1</td>\n",
              "      <td>1</td>\n",
              "      <td>2015</td>\n",
              "      <td>6</td>\n",
              "    </tr>\n",
              "    <tr>\n",
              "      <th>2</th>\n",
              "      <td>1.000000</td>\n",
              "      <td>9.0</td>\n",
              "      <td>0.0</td>\n",
              "      <td>1.000000</td>\n",
              "      <td>71.333333</td>\n",
              "      <td>64.333333</td>\n",
              "      <td>0.0</td>\n",
              "      <td>1.000000</td>\n",
              "      <td>0.0</td>\n",
              "      <td>214.333333</td>\n",
              "      <td>2.000000</td>\n",
              "      <td>326.000000</td>\n",
              "      <td>0.0</td>\n",
              "      <td>2.666667</td>\n",
              "      <td>0.0</td>\n",
              "      <td>17.0</td>\n",
              "      <td>0.0</td>\n",
              "      <td>0.0</td>\n",
              "      <td>1038.000000</td>\n",
              "      <td>0.0</td>\n",
              "      <td>0.0</td>\n",
              "      <td>0.0</td>\n",
              "      <td>0.0</td>\n",
              "      <td>800.0</td>\n",
              "      <td>800.0</td>\n",
              "      <td>1036.000000</td>\n",
              "      <td>800.0</td>\n",
              "      <td>1005.333333</td>\n",
              "      <td>278.792000</td>\n",
              "      <td>974.000000</td>\n",
              "      <td>278.008667</td>\n",
              "      <td>278.008667</td>\n",
              "      <td>800.0</td>\n",
              "      <td>278.792000</td>\n",
              "      <td>65.666667</td>\n",
              "      <td>278.008667</td>\n",
              "      <td>281.583667</td>\n",
              "      <td>272.708667</td>\n",
              "      <td>281.583667</td>\n",
              "      <td>275.027229</td>\n",
              "      <td>275.027229</td>\n",
              "      <td>281.583667</td>\n",
              "      <td>275.027229</td>\n",
              "      <td>278.792000</td>\n",
              "      <td>272.708667</td>\n",
              "      <td>272.708667</td>\n",
              "      <td>4274.666667</td>\n",
              "      <td>1</td>\n",
              "      <td>1</td>\n",
              "      <td>2015</td>\n",
              "      <td>9</td>\n",
              "    </tr>\n",
              "    <tr>\n",
              "      <th>3</th>\n",
              "      <td>1.000000</td>\n",
              "      <td>8.0</td>\n",
              "      <td>0.0</td>\n",
              "      <td>1.000000</td>\n",
              "      <td>65.333333</td>\n",
              "      <td>56.333333</td>\n",
              "      <td>0.0</td>\n",
              "      <td>1.000000</td>\n",
              "      <td>0.0</td>\n",
              "      <td>199.666667</td>\n",
              "      <td>2.333333</td>\n",
              "      <td>273.000000</td>\n",
              "      <td>0.0</td>\n",
              "      <td>4.000000</td>\n",
              "      <td>0.0</td>\n",
              "      <td>17.0</td>\n",
              "      <td>0.0</td>\n",
              "      <td>0.0</td>\n",
              "      <td>1037.000000</td>\n",
              "      <td>0.0</td>\n",
              "      <td>0.0</td>\n",
              "      <td>0.0</td>\n",
              "      <td>0.0</td>\n",
              "      <td>800.0</td>\n",
              "      <td>800.0</td>\n",
              "      <td>1036.000000</td>\n",
              "      <td>800.0</td>\n",
              "      <td>1009.000000</td>\n",
              "      <td>285.394000</td>\n",
              "      <td>994.666667</td>\n",
              "      <td>284.899552</td>\n",
              "      <td>284.899552</td>\n",
              "      <td>800.0</td>\n",
              "      <td>285.394000</td>\n",
              "      <td>54.000000</td>\n",
              "      <td>284.899552</td>\n",
              "      <td>283.434104</td>\n",
              "      <td>281.895219</td>\n",
              "      <td>283.434104</td>\n",
              "      <td>281.135063</td>\n",
              "      <td>281.135063</td>\n",
              "      <td>283.434104</td>\n",
              "      <td>281.135063</td>\n",
              "      <td>285.394000</td>\n",
              "      <td>281.895219</td>\n",
              "      <td>281.895219</td>\n",
              "      <td>5075.666667</td>\n",
              "      <td>1</td>\n",
              "      <td>1</td>\n",
              "      <td>2015</td>\n",
              "      <td>12</td>\n",
              "    </tr>\n",
              "    <tr>\n",
              "      <th>4</th>\n",
              "      <td>1.000000</td>\n",
              "      <td>7.0</td>\n",
              "      <td>0.0</td>\n",
              "      <td>1.000000</td>\n",
              "      <td>59.000000</td>\n",
              "      <td>57.000000</td>\n",
              "      <td>2.0</td>\n",
              "      <td>0.333333</td>\n",
              "      <td>0.0</td>\n",
              "      <td>185.000000</td>\n",
              "      <td>4.333333</td>\n",
              "      <td>260.000000</td>\n",
              "      <td>0.0</td>\n",
              "      <td>3.000000</td>\n",
              "      <td>0.0</td>\n",
              "      <td>17.0</td>\n",
              "      <td>0.0</td>\n",
              "      <td>0.0</td>\n",
              "      <td>1035.000000</td>\n",
              "      <td>0.0</td>\n",
              "      <td>0.0</td>\n",
              "      <td>0.0</td>\n",
              "      <td>0.0</td>\n",
              "      <td>800.0</td>\n",
              "      <td>800.0</td>\n",
              "      <td>1035.333333</td>\n",
              "      <td>800.0</td>\n",
              "      <td>1018.000000</td>\n",
              "      <td>285.513719</td>\n",
              "      <td>1035.333333</td>\n",
              "      <td>283.015115</td>\n",
              "      <td>283.015115</td>\n",
              "      <td>800.0</td>\n",
              "      <td>285.513719</td>\n",
              "      <td>58.333333</td>\n",
              "      <td>283.015115</td>\n",
              "      <td>284.213167</td>\n",
              "      <td>280.678437</td>\n",
              "      <td>284.213167</td>\n",
              "      <td>282.252063</td>\n",
              "      <td>282.252063</td>\n",
              "      <td>284.213167</td>\n",
              "      <td>282.252063</td>\n",
              "      <td>285.513719</td>\n",
              "      <td>280.678437</td>\n",
              "      <td>280.678437</td>\n",
              "      <td>6620.666667</td>\n",
              "      <td>1</td>\n",
              "      <td>1</td>\n",
              "      <td>2015</td>\n",
              "      <td>15</td>\n",
              "    </tr>\n",
              "  </tbody>\n",
              "</table>\n",
              "</div>"
            ],
            "text/plain": [
              "   Madrid_wind_speed  Valencia_wind_deg  ...  Year  Start_hour\n",
              "0           0.666667                5.0  ...  2015           3\n",
              "1           0.333333                1.0  ...  2015           6\n",
              "2           1.000000                9.0  ...  2015           9\n",
              "3           1.000000                8.0  ...  2015          12\n",
              "4           1.000000                7.0  ...  2015          15\n",
              "\n",
              "[5 rows x 51 columns]"
            ]
          },
          "metadata": {},
          "execution_count": 22
        }
      ]
    },
    {
      "cell_type": "code",
      "metadata": {
        "id": "0pXX8B4-316g"
      },
      "source": [
        "#Scale the dataset\n",
        "scaler = StandardScaler()\n",
        "scaled_features = scaler.fit_transform(df_train.drop(['load_shortfall_3h'] , axis=1).values)\n",
        "scaled_features_test = scaler.fit_transform(df_test.values)"
      ],
      "execution_count": 23,
      "outputs": []
    },
    {
      "cell_type": "code",
      "metadata": {
        "id": "zqjUiNdn316h"
      },
      "source": [
        "df_train_scaled = pd.DataFrame(scaled_features, index=df_train.index, columns=columns)\n",
        "df_test_scaled = pd.DataFrame(scaled_features_test, index=df_test.index , columns=columns)"
      ],
      "execution_count": 24,
      "outputs": []
    },
    {
      "cell_type": "code",
      "metadata": {
        "id": "TcaTdyIy316i"
      },
      "source": [
        "#Add load_short_fall_3h as last_columns on training data\n",
        "df_train_scaled['load_shortfall_3h'] = copy_train.load_shortfall_3h.values"
      ],
      "execution_count": 25,
      "outputs": []
    },
    {
      "cell_type": "code",
      "metadata": {
        "id": "BZevUSGp316k"
      },
      "source": [
        "#Perform a test_train_split\n",
        "X = df_train_scaled.drop(['load_shortfall_3h'], axis=1)\n",
        "y = df_train_scaled.load_shortfall_3h"
      ],
      "execution_count": 26,
      "outputs": []
    },
    {
      "cell_type": "code",
      "metadata": {
        "id": "T3ZQt8eq316l",
        "colab": {
          "base_uri": "https://localhost:8080/"
        },
        "outputId": "b63f5468-d22d-436c-fb49-3c3c445d35f4"
      },
      "source": [
        "X.shape"
      ],
      "execution_count": 27,
      "outputs": [
        {
          "output_type": "execute_result",
          "data": {
            "text/plain": [
              "(8763, 50)"
            ]
          },
          "metadata": {},
          "execution_count": 27
        }
      ]
    },
    {
      "cell_type": "markdown",
      "metadata": {
        "id": "jg5fQTWO316m"
      },
      "source": [
        "## Feature Seletion"
      ]
    },
    {
      "cell_type": "code",
      "metadata": {
        "id": "j1jeMSsj3161"
      },
      "source": [
        "#Recursive Feature Selection (RFE) with Tree based and Gradient based Estimators\n",
        "\n",
        "#Buid the Model\n",
        "import pickle\n",
        "from sklearn.svm import SVR\n",
        "from sklearn.linear_model import LinearRegression, Ridge , Lasso\n",
        "from sklearn.ensemble import RandomForestRegressor \n",
        "from sklearn.tree import DecisionTreeRegressor\n",
        "\n",
        "from sklearn.feature_selection import SelectFromModel\n",
        "from sklearn.metrics import r2_score , mean_squared_error\n",
        "\n",
        "#OLS summary\n",
        "import statsmodels.formula.api as sm"
      ],
      "execution_count": 28,
      "outputs": []
    },
    {
      "cell_type": "code",
      "metadata": {
        "id": "4_NIAg_K3162"
      },
      "source": [
        "#Train Test Split\n",
        "X = df_train.drop(['load_shortfall_3h'],axis=1)\n",
        "y = df_train.load_shortfall_3h\n",
        "\n",
        "X_train, X_test, y_train, y_test = train_test_split(X, y, test_size=0.33, random_state=42)"
      ],
      "execution_count": 29,
      "outputs": []
    },
    {
      "cell_type": "code",
      "metadata": {
        "id": "hUZssTHH3163",
        "colab": {
          "base_uri": "https://localhost:8080/"
        },
        "outputId": "1ae8539c-7d27-4227-c349-d3c38e749688"
      },
      "source": [
        "X_train.shape"
      ],
      "execution_count": 30,
      "outputs": [
        {
          "output_type": "execute_result",
          "data": {
            "text/plain": [
              "(5871, 50)"
            ]
          },
          "metadata": {},
          "execution_count": 30
        }
      ]
    },
    {
      "cell_type": "markdown",
      "metadata": {
        "id": "Luzs2-Vm3164"
      },
      "source": [
        "### Feature Selection: Feature Importance of Random Forest Regressor"
      ]
    },
    {
      "cell_type": "code",
      "metadata": {
        "id": "C1O9alkX3164",
        "colab": {
          "base_uri": "https://localhost:8080/"
        },
        "outputId": "fc7d8153-6fb7-47ea-ab49-4d0b59c0fe75"
      },
      "source": [
        "selct_important = SelectFromModel(RandomForestRegressor(n_estimators=100 , random_state=0 , n_jobs=1))\n",
        "selct_important.fit(X_train , y_train)\n",
        "selct_important.get_support()"
      ],
      "execution_count": 31,
      "outputs": [
        {
          "output_type": "execute_result",
          "data": {
            "text/plain": [
              "array([ True, False, False,  True, False, False, False, False, False,\n",
              "       False, False, False, False, False, False, False, False, False,\n",
              "        True, False, False, False, False, False, False,  True, False,\n",
              "       False, False, False, False, False, False, False,  True,  True,\n",
              "       False, False, False, False, False, False, False, False, False,\n",
              "       False,  True,  True,  True,  True])"
            ]
          },
          "metadata": {},
          "execution_count": 31
        }
      ]
    },
    {
      "cell_type": "code",
      "metadata": {
        "id": "CBR2-KA93165",
        "colab": {
          "base_uri": "https://localhost:8080/"
        },
        "outputId": "55a9ad60-909f-4c07-a378-715e43b39b3d"
      },
      "source": [
        "features = X_train.columns[(selct_important.get_support())]\n",
        "len(features)"
      ],
      "execution_count": 32,
      "outputs": [
        {
          "output_type": "execute_result",
          "data": {
            "text/plain": [
              "10"
            ]
          },
          "metadata": {},
          "execution_count": 32
        }
      ]
    },
    {
      "cell_type": "code",
      "metadata": {
        "id": "jJQMapQQ3166",
        "colab": {
          "base_uri": "https://localhost:8080/"
        },
        "outputId": "21672638-8d24-4f18-8e33-a4793c61fa35"
      },
      "source": [
        "features"
      ],
      "execution_count": 33,
      "outputs": [
        {
          "output_type": "execute_result",
          "data": {
            "text/plain": [
              "Index(['Madrid_wind_speed', 'Valencia_wind_speed', 'Barcelona_pressure',\n",
              "       'Bilbao_pressure', 'Valencia_humidity', 'Valencia_temp_min', 'Day',\n",
              "       'Month', 'Year', 'Start_hour'],\n",
              "      dtype='object')"
            ]
          },
          "metadata": {},
          "execution_count": 33
        }
      ]
    },
    {
      "cell_type": "code",
      "metadata": {
        "id": "JQjD_net3166",
        "colab": {
          "base_uri": "https://localhost:8080/"
        },
        "outputId": "9803cc8c-9e6f-4f1e-a45c-746bc508e0f1"
      },
      "source": [
        "np.mean(selct_important.estimator_.feature_importances_)"
      ],
      "execution_count": 34,
      "outputs": [
        {
          "output_type": "execute_result",
          "data": {
            "text/plain": [
              "0.02"
            ]
          },
          "metadata": {},
          "execution_count": 34
        }
      ]
    },
    {
      "cell_type": "code",
      "metadata": {
        "id": "dN_UUkjG3167",
        "colab": {
          "base_uri": "https://localhost:8080/",
          "height": 285
        },
        "outputId": "06d852c7-584e-48b9-bd38-b07867a54d8f"
      },
      "source": [
        "pd.Series(selct_important.estimator_.feature_importances_.ravel()).hist()"
      ],
      "execution_count": 35,
      "outputs": [
        {
          "output_type": "execute_result",
          "data": {
            "text/plain": [
              "<matplotlib.axes._subplots.AxesSubplot at 0x7f9eb4f10790>"
            ]
          },
          "metadata": {},
          "execution_count": 35
        },
        {
          "output_type": "display_data",
          "data": {
            "image/png": "[encoded data removed]",
            "text/plain": [
              "<Figure size 432x288 with 1 Axes>"
            ]
          },
          "metadata": {}
        }
      ]
    },
    {
      "cell_type": "code",
      "metadata": {
        "id": "-7AyOO0v3168",
        "colab": {
          "base_uri": "https://localhost:8080/"
        },
        "outputId": "5097180a-c27a-4115-9784-119b55077b14"
      },
      "source": [
        "selct_important.estimator_.feature_importances_"
      ],
      "execution_count": 36,
      "outputs": [
        {
          "output_type": "execute_result",
          "data": {
            "text/plain": [
              "array([3.75374765e-02, 1.06810518e-02, 3.64400679e-03, 2.13343951e-02,\n",
              "       1.98307562e-02, 1.95437756e-02, 1.07118264e-02, 1.52076141e-02,\n",
              "       6.81632573e-03, 1.89564637e-02, 1.31742030e-02, 1.99215747e-02,\n",
              "       8.55181594e-03, 1.25037484e-02, 4.71077478e-03, 1.19946867e-02,\n",
              "       1.34236631e-03, 2.88993052e-04, 2.84223519e-02, 2.20593863e-03,\n",
              "       1.34678572e-03, 4.59466853e-04, 1.07164253e-06, 7.99566789e-03,\n",
              "       1.05667561e-02, 3.14491826e-02, 7.00517402e-03, 1.20339624e-02,\n",
              "       1.67510288e-02, 1.65020531e-02, 1.10425223e-02, 6.83643145e-03,\n",
              "       1.10800062e-02, 1.08664686e-02, 2.61404858e-02, 2.05510596e-02,\n",
              "       8.77517233e-03, 1.04044487e-02, 9.49769461e-03, 1.29571918e-02,\n",
              "       1.28582813e-02, 1.99771454e-02, 1.18534650e-02, 1.23791101e-02,\n",
              "       9.30332461e-03, 1.08873461e-02, 1.76666938e-01, 8.53849133e-02,\n",
              "       4.64026892e-02, 1.14644012e-01])"
            ]
          },
          "metadata": {},
          "execution_count": 36
        }
      ]
    },
    {
      "cell_type": "code",
      "metadata": {
        "id": "2EFmzEEP3169"
      },
      "source": [
        "X_train_sel = selct_important.transform(X_train)\n",
        "X_test_sel = selct_important.transform(X_test)"
      ],
      "execution_count": 37,
      "outputs": []
    },
    {
      "cell_type": "code",
      "metadata": {
        "id": "I8z2QRqR316-"
      },
      "source": [
        "def _randomForest_train(X_train, X_test, y_train, y_test):\n",
        "    forest = RandomForestRegressor(n_estimators=100 , random_state=0 , n_jobs=1)\n",
        "    forest.fit(X_train , y_train)\n",
        "    pred = forest.predict(X_test)\n",
        "    print(f'Train RMSE: { np.sqrt(mean_squared_error(y_train[:2892], pred))}')\n",
        "    print(f'R Score Train: {r2_score(y_train[:2892] , pred)}')\n",
        "    print(f'Test RMSE: { np.sqrt(mean_squared_error(y_test, pred))}')\n",
        "    print(f'R Score Test: {r2_score(y_test , pred)}')"
      ],
      "execution_count": 38,
      "outputs": []
    },
    {
      "cell_type": "code",
      "metadata": {
        "id": "XieBii4Z316_",
        "colab": {
          "base_uri": "https://localhost:8080/"
        },
        "outputId": "a94b88ce-ad4b-4196-c4ad-82306c5fa663"
      },
      "source": [
        "%%time\n",
        "_randomForest_train(X_train_sel , X_test_sel , y_train , y_test )"
      ],
      "execution_count": 39,
      "outputs": [
        {
          "output_type": "stream",
          "name": "stdout",
          "text": [
            "Train RMSE: 6566.850926516382\n",
            "R Score Train: -0.5898527069101995\n",
            "Test RMSE: 3133.21158309809\n",
            "R Score Test: 0.6482568328599254\n",
            "CPU times: user 3.16 s, sys: 38.7 ms, total: 3.2 s\n",
            "Wall time: 3.2 s\n"
          ]
        }
      ]
    },
    {
      "cell_type": "code",
      "metadata": {
        "id": "2bXw_g_a317A",
        "colab": {
          "base_uri": "https://localhost:8080/"
        },
        "outputId": "46c99b69-ffff-4b92-8041-83a723ea7a2c"
      },
      "source": [
        "%%time\n",
        "# All features\n",
        "_randomForest_train(X_train , X_test , y_train , y_test )"
      ],
      "execution_count": 40,
      "outputs": [
        {
          "output_type": "stream",
          "name": "stdout",
          "text": [
            "Train RMSE: 6451.485904569759\n",
            "R Score Train: -0.5344829989687987\n",
            "Test RMSE: 3299.0390385214314\n",
            "R Score Test: 0.6100390386852732\n",
            "CPU times: user 15.2 s, sys: 15.3 ms, total: 15.2 s\n",
            "Wall time: 15.2 s\n"
          ]
        }
      ]
    },
    {
      "cell_type": "markdown",
      "metadata": {
        "id": "qiHLhz4U317B"
      },
      "source": [
        "#### Recursive Feature Selection(RFE)"
      ]
    },
    {
      "cell_type": "code",
      "metadata": {
        "id": "oCoaOmoK317B"
      },
      "source": [
        "from sklearn.feature_selection import RFE"
      ],
      "execution_count": 41,
      "outputs": []
    },
    {
      "cell_type": "code",
      "metadata": {
        "id": "hiSO2mOk317C"
      },
      "source": [
        "r_selection = RFE(RandomForestRegressor(n_estimators=100 , random_state=0 , n_jobs=1), n_features_to_select=14)"
      ],
      "execution_count": 42,
      "outputs": []
    },
    {
      "cell_type": "code",
      "metadata": {
        "id": "8e3m2R4q317C",
        "colab": {
          "base_uri": "https://localhost:8080/"
        },
        "outputId": "4916dc7f-7564-4750-9bfb-f6fa17cfc524"
      },
      "source": [
        "r_selection.fit(X_train , y_train)"
      ],
      "execution_count": 43,
      "outputs": [
        {
          "output_type": "execute_result",
          "data": {
            "text/plain": [
              "RFE(estimator=RandomForestRegressor(bootstrap=True, ccp_alpha=0.0,\n",
              "                                    criterion='mse', max_depth=None,\n",
              "                                    max_features='auto', max_leaf_nodes=None,\n",
              "                                    max_samples=None, min_impurity_decrease=0.0,\n",
              "                                    min_impurity_split=None, min_samples_leaf=1,\n",
              "                                    min_samples_split=2,\n",
              "                                    min_weight_fraction_leaf=0.0,\n",
              "                                    n_estimators=100, n_jobs=1, oob_score=False,\n",
              "                                    random_state=0, verbose=0,\n",
              "                                    warm_start=False),\n",
              "    n_features_to_select=14, step=1, verbose=0)"
            ]
          },
          "metadata": {},
          "execution_count": 43
        }
      ]
    },
    {
      "cell_type": "code",
      "metadata": {
        "id": "OArERUEO317D",
        "colab": {
          "base_uri": "https://localhost:8080/"
        },
        "outputId": "d128fc7c-f7f3-47e4-c433-bfccc70b62f7"
      },
      "source": [
        "r_selection.get_support()"
      ],
      "execution_count": 44,
      "outputs": [
        {
          "output_type": "execute_result",
          "data": {
            "text/plain": [
              "array([ True, False, False, False,  True,  True, False, False, False,\n",
              "       False, False, False, False, False, False, False, False, False,\n",
              "        True, False, False, False, False, False, False,  True, False,\n",
              "       False,  True, False, False, False, False, False,  True,  True,\n",
              "       False, False, False, False,  True,  True, False, False, False,\n",
              "       False,  True,  True,  True,  True])"
            ]
          },
          "metadata": {},
          "execution_count": 44
        }
      ]
    },
    {
      "cell_type": "code",
      "metadata": {
        "id": "VjiuToC4317D",
        "colab": {
          "base_uri": "https://localhost:8080/"
        },
        "outputId": "fa1cd8d6-98d4-4fa3-e88f-3331db3e9172"
      },
      "source": [
        "features1 = X_train.columns[(r_selection.get_support())]\n",
        "len(features)"
      ],
      "execution_count": 45,
      "outputs": [
        {
          "output_type": "execute_result",
          "data": {
            "text/plain": [
              "10"
            ]
          },
          "metadata": {},
          "execution_count": 45
        }
      ]
    },
    {
      "cell_type": "code",
      "metadata": {
        "id": "ocZYnw5W317E",
        "colab": {
          "base_uri": "https://localhost:8080/"
        },
        "outputId": "44947431-38c4-47ad-9687-a894fc5370d4"
      },
      "source": [
        "features1"
      ],
      "execution_count": 46,
      "outputs": [
        {
          "output_type": "execute_result",
          "data": {
            "text/plain": [
              "Index(['Madrid_wind_speed', 'Seville_humidity', 'Madrid_humidity',\n",
              "       'Barcelona_pressure', 'Bilbao_pressure', 'Seville_temp_max',\n",
              "       'Valencia_humidity', 'Valencia_temp_min', 'Bilbao_temp',\n",
              "       'Barcelona_temp_min', 'Day', 'Month', 'Year', 'Start_hour'],\n",
              "      dtype='object')"
            ]
          },
          "metadata": {},
          "execution_count": 46
        }
      ]
    },
    {
      "cell_type": "code",
      "metadata": {
        "id": "KpjAO5-8317E",
        "colab": {
          "base_uri": "https://localhost:8080/"
        },
        "outputId": "944c4950-d045-476c-e46d-2a865f9a4fd8"
      },
      "source": [
        "r_selection.estimator_.feature_importances_"
      ],
      "execution_count": 47,
      "outputs": [
        {
          "output_type": "execute_result",
          "data": {
            "text/plain": [
              "array([0.05731169, 0.04368111, 0.0453217 , 0.05663009, 0.05994624,\n",
              "       0.04378012, 0.05414302, 0.05134141, 0.04963329, 0.04866258,\n",
              "       0.20270909, 0.0996054 , 0.05517294, 0.1320613 ])"
            ]
          },
          "metadata": {},
          "execution_count": 47
        }
      ]
    },
    {
      "cell_type": "code",
      "metadata": {
        "id": "d8OLzqNn317F"
      },
      "source": [
        "X_train_r = r_selection.transform(X_train)\n",
        "X_test_r = r_selection.transform(X_test)"
      ],
      "execution_count": 48,
      "outputs": []
    },
    {
      "cell_type": "code",
      "metadata": {
        "id": "i0_QBqAV317G",
        "colab": {
          "base_uri": "https://localhost:8080/"
        },
        "outputId": "9fc6b40d-dd64-4d2e-dc88-a5ad606b47f0"
      },
      "source": [
        "%%time\n",
        "_randomForest_train(X_train_r , X_test_r , y_train , y_test )"
      ],
      "execution_count": 49,
      "outputs": [
        {
          "output_type": "stream",
          "name": "stdout",
          "text": [
            "Train RMSE: 6540.670900620246\n",
            "R Score Train: -0.577201462761616\n",
            "Test RMSE: 3223.9058920542975\n",
            "R Score Test: 0.6275989173941283\n",
            "CPU times: user 5.04 s, sys: 12 ms, total: 5.05 s\n",
            "Wall time: 5.05 s\n"
          ]
        }
      ]
    },
    {
      "cell_type": "code",
      "metadata": {
        "id": "0MHN-j_R317G",
        "colab": {
          "base_uri": "https://localhost:8080/"
        },
        "outputId": "67dabd46-2e64-4d38-f738-2d10e0ede09a"
      },
      "source": [
        "%%time\n",
        "# All features\n",
        "_randomForest_train(X_train , X_test , y_train , y_test )"
      ],
      "execution_count": 50,
      "outputs": [
        {
          "output_type": "stream",
          "name": "stdout",
          "text": [
            "Train RMSE: 6451.485904569759\n",
            "R Score Train: -0.5344829989687987\n",
            "Test RMSE: 3299.0390385214314\n",
            "R Score Test: 0.6100390386852732\n",
            "CPU times: user 15.2 s, sys: 19 ms, total: 15.2 s\n",
            "Wall time: 15.1 s\n"
          ]
        }
      ]
    },
    {
      "cell_type": "markdown",
      "metadata": {
        "id": "T9sybIvj317H"
      },
      "source": [
        "### Feature Selection: GradientBoostRegressor"
      ]
    },
    {
      "cell_type": "code",
      "metadata": {
        "id": "OXCOsLzP317H"
      },
      "source": [
        "from sklearn.ensemble import GradientBoostingRegressor"
      ],
      "execution_count": 51,
      "outputs": []
    },
    {
      "cell_type": "code",
      "metadata": {
        "id": "1Xc-rukF317I",
        "colab": {
          "base_uri": "https://localhost:8080/"
        },
        "outputId": "8c1e8585-3172-4f97-be5d-22ff3017569a"
      },
      "source": [
        "grad_selection = RFE(GradientBoostingRegressor(n_estimators=100 , random_state=0), n_features_to_select=10)\n",
        "grad_selection.fit(X_train , y_train)"
      ],
      "execution_count": 52,
      "outputs": [
        {
          "output_type": "execute_result",
          "data": {
            "text/plain": [
              "RFE(estimator=GradientBoostingRegressor(alpha=0.9, ccp_alpha=0.0,\n",
              "                                        criterion='friedman_mse', init=None,\n",
              "                                        learning_rate=0.1, loss='ls',\n",
              "                                        max_depth=3, max_features=None,\n",
              "                                        max_leaf_nodes=None,\n",
              "                                        min_impurity_decrease=0.0,\n",
              "                                        min_impurity_split=None,\n",
              "                                        min_samples_leaf=1, min_samples_split=2,\n",
              "                                        min_weight_fraction_leaf=0.0,\n",
              "                                        n_estimators=100, n_iter_no_change=None,\n",
              "                                        presort='deprecated', random_state=0,\n",
              "                                        subsample=1.0, tol=0.0001,\n",
              "                                        validation_fraction=0.1, verbose=0,\n",
              "                                        warm_start=False),\n",
              "    n_features_to_select=10, step=1, verbose=0)"
            ]
          },
          "metadata": {},
          "execution_count": 52
        }
      ]
    },
    {
      "cell_type": "code",
      "metadata": {
        "id": "LsvC83Yc317I",
        "colab": {
          "base_uri": "https://localhost:8080/"
        },
        "outputId": "6d4ace37-d915-4520-a48e-ec557ccd4e66"
      },
      "source": [
        "grad_selection.get_support()"
      ],
      "execution_count": 53,
      "outputs": [
        {
          "output_type": "execute_result",
          "data": {
            "text/plain": [
              "array([ True, False, False, False, False, False, False, False, False,\n",
              "       False, False, False, False, False, False, False, False, False,\n",
              "        True, False, False, False, False, False, False,  True, False,\n",
              "       False, False, False, False, False, False, False,  True,  True,\n",
              "       False, False,  True, False, False, False, False, False, False,\n",
              "       False,  True,  True,  True,  True])"
            ]
          },
          "metadata": {},
          "execution_count": 53
        }
      ]
    },
    {
      "cell_type": "code",
      "metadata": {
        "id": "gnjjrBeX317I",
        "colab": {
          "base_uri": "https://localhost:8080/"
        },
        "outputId": "a40e4283-19d1-4a41-f8d4-bc6ffb43ae04"
      },
      "source": [
        "features2 = X_train.columns[(grad_selection.get_support())]\n",
        "len(features)"
      ],
      "execution_count": 54,
      "outputs": [
        {
          "output_type": "execute_result",
          "data": {
            "text/plain": [
              "10"
            ]
          },
          "metadata": {},
          "execution_count": 54
        }
      ]
    },
    {
      "cell_type": "code",
      "metadata": {
        "id": "3E7k0apG317J",
        "colab": {
          "base_uri": "https://localhost:8080/"
        },
        "outputId": "ce0ffc47-466f-4525-96fb-8a7039421e3d"
      },
      "source": [
        "features2"
      ],
      "execution_count": 55,
      "outputs": [
        {
          "output_type": "execute_result",
          "data": {
            "text/plain": [
              "Index(['Madrid_wind_speed', 'Barcelona_pressure', 'Bilbao_pressure',\n",
              "       'Valencia_humidity', 'Valencia_temp_min', 'Barcelona_temp', 'Day',\n",
              "       'Month', 'Year', 'Start_hour'],\n",
              "      dtype='object')"
            ]
          },
          "metadata": {},
          "execution_count": 55
        }
      ]
    },
    {
      "cell_type": "code",
      "metadata": {
        "id": "sIh-fLB8317J",
        "colab": {
          "base_uri": "https://localhost:8080/"
        },
        "outputId": "00d0cca4-67aa-4956-8ea8-8b43307774eb"
      },
      "source": [
        "grad_selection.estimator_.feature_importances_"
      ],
      "execution_count": 56,
      "outputs": [
        {
          "output_type": "execute_result",
          "data": {
            "text/plain": [
              "array([0.04338314, 0.03450376, 0.02898288, 0.0403738 , 0.02676491,\n",
              "       0.03227044, 0.30980752, 0.15115311, 0.08479699, 0.24796344])"
            ]
          },
          "metadata": {},
          "execution_count": 56
        }
      ]
    },
    {
      "cell_type": "code",
      "metadata": {
        "id": "RCZNgWtd317K"
      },
      "source": [
        "X_train_g = grad_selection.transform(X_train)\n",
        "X_test_g = grad_selection.transform(X_test)"
      ],
      "execution_count": 57,
      "outputs": []
    },
    {
      "cell_type": "code",
      "metadata": {
        "id": "aylgrfiI317K",
        "colab": {
          "base_uri": "https://localhost:8080/"
        },
        "outputId": "e4a72eb8-8500-4a39-b777-f6ec3872d9c6"
      },
      "source": [
        "%%time\n",
        "_randomForest_train(X_train_g , X_test_g , y_train , y_test )"
      ],
      "execution_count": 58,
      "outputs": [
        {
          "output_type": "stream",
          "name": "stdout",
          "text": [
            "Train RMSE: 6571.764329370291\n",
            "R Score Train: -0.5922326936892679\n",
            "Test RMSE: 3116.485241651809\n",
            "R Score Test: 0.6520023012056524\n",
            "CPU times: user 3.36 s, sys: 6 ms, total: 3.37 s\n",
            "Wall time: 3.37 s\n"
          ]
        }
      ]
    },
    {
      "cell_type": "code",
      "metadata": {
        "id": "Mqp3frbN317L",
        "colab": {
          "base_uri": "https://localhost:8080/"
        },
        "outputId": "05ba89db-ba44-4610-d6ee-b79a2b0cd6b0"
      },
      "source": [
        "%%time\n",
        "#All features\n",
        "_randomForest_train(X_train , X_test , y_train , y_test )"
      ],
      "execution_count": 83,
      "outputs": [
        {
          "output_type": "stream",
          "name": "stdout",
          "text": [
            "Train RMSE: 6451.485904569759\n",
            "R Score Train: -0.5344829989687987\n",
            "Test RMSE: 3299.0390385214314\n",
            "R Score Test: 0.6100390386852732\n",
            "CPU times: user 12.9 s, sys: 23 ms, total: 12.9 s\n",
            "Wall time: 12.8 s\n"
          ]
        }
      ]
    },
    {
      "cell_type": "markdown",
      "metadata": {
        "id": "sF_i7GAW317M"
      },
      "source": [
        "### Feature Selection: Random Forest Tree & Gardient Boost - 50 Iterations"
      ]
    },
    {
      "cell_type": "code",
      "metadata": {
        "id": "LGwFyW81317M",
        "colab": {
          "base_uri": "https://localhost:8080/"
        },
        "outputId": "1e752b3b-2af5-4b67-cc4e-6f67322508ff"
      },
      "source": [
        "print('>'*40 + 'GradientBoostRegressor'+ '<'*40)\n",
        "for index in range(1 , 51):\n",
        "    grad_selection = RFE(GradientBoostingRegressor(n_estimators=100 , random_state=0), n_features_to_select=index)\n",
        "    grad_selection.fit(X_train , y_train)\n",
        "    X_train_g = grad_selection.transform(X_train)\n",
        "    X_test_g = grad_selection.transform(X_test)\n",
        "    print(f'Selected Features: {index}')\n",
        "    _randomForest_train(X_train_g , X_test_g , y_train , y_test )\n",
        "    print()"
      ],
      "execution_count": null,
      "outputs": [
        {
          "output_type": "stream",
          "name": "stdout",
          "text": [
            ">>>>>>>>>>>>>>>>>>>>>>>>>>>>>>>>>>>>>>>>GradientBoostRegressor<<<<<<<<<<<<<<<<<<<<<<<<<<<<<<<<<<<<<<<<\n",
            "Selected Features: 1\n",
            "Train RMSE: 5596.211496159882\n",
            "R Score Train: -0.15459803548445872\n",
            "Test RMSE: 4883.725002979564\n",
            "R Score Test: 0.14542806596204305\n",
            "\n",
            "Selected Features: 2\n",
            "Train RMSE: 5968.113642778917\n",
            "R Score Train: -0.3131572750742979\n",
            "Test RMSE: 4635.641125359093\n",
            "R Score Test: 0.23004412513412542\n",
            "\n",
            "Selected Features: 3\n",
            "Train RMSE: 6742.681308837149\n",
            "R Score Train: -0.6761305518017859\n",
            "Test RMSE: 4771.049898864075\n",
            "R Score Test: 0.18440577808596226\n",
            "\n",
            "Selected Features: 4\n",
            "Train RMSE: 6885.333049143121\n",
            "R Score Train: -0.7478029988319388\n",
            "Test RMSE: 2614.36195652199\n",
            "R Score Test: 0.7551062772318131\n",
            "\n",
            "Selected Features: 5\n",
            "Train RMSE: 6829.198476647612\n",
            "R Score Train: -0.7194202814823152\n",
            "Test RMSE: 2864.6944717067327\n",
            "R Score Test: 0.7059624179210212\n",
            "\n",
            "Selected Features: 6\n",
            "Train RMSE: 6715.420000363679\n",
            "R Score Train: -0.6626044371017774\n",
            "Test RMSE: 3086.715076301614\n",
            "R Score Test: 0.6586190291078511\n",
            "\n",
            "Selected Features: 7\n",
            "Train RMSE: 6666.735350370456\n",
            "R Score Train: -0.6385851178326454\n",
            "Test RMSE: 3171.4492139948634\n",
            "R Score Test: 0.6396191167705212\n",
            "\n",
            "Selected Features: 8\n",
            "Train RMSE: 6615.3714974675895\n",
            "R Score Train: -0.613433429735428\n",
            "Test RMSE: 3093.0957247501115\n",
            "R Score Test: 0.6572062111086531\n",
            "\n",
            "Selected Features: 9\n",
            "Train RMSE: 6576.359740124588\n",
            "R Score Train: -0.5944602603299904\n",
            "Test RMSE: 3051.7957571445336\n",
            "R Score Test: 0.6662992730944116\n",
            "\n",
            "Selected Features: 10\n",
            "Train RMSE: 6571.764329370291\n",
            "R Score Train: -0.5922326936892679\n",
            "Test RMSE: 3116.485241651809\n",
            "R Score Test: 0.6520023012056524\n",
            "\n",
            "Selected Features: 11\n",
            "Train RMSE: 6551.335191968422\n",
            "R Score Train: -0.5823487781085226\n",
            "Test RMSE: 3140.8759764260863\n",
            "R Score Test: 0.646533875290662\n",
            "\n",
            "Selected Features: 12\n",
            "Train RMSE: 6533.719769390395\n",
            "R Score Train: -0.5738508863940162\n",
            "Test RMSE: 3173.703331073756\n",
            "R Score Test: 0.6391066511210579\n",
            "\n",
            "Selected Features: 13\n",
            "Train RMSE: 6517.557497522983\n",
            "R Score Train: -0.5660741388713559\n",
            "Test RMSE: 3202.6909626278243\n",
            "R Score Test: 0.632483965799179\n",
            "\n",
            "Selected Features: 14\n",
            "Train RMSE: 6509.723100875392\n",
            "R Score Train: -0.5623114188966021\n",
            "Test RMSE: 3187.1947386637335\n",
            "R Score Test: 0.6360318153685527\n",
            "\n",
            "Selected Features: 15\n",
            "Train RMSE: 6507.628036968805\n",
            "R Score Train: -0.5613059642847258\n",
            "Test RMSE: 3195.1451804846874\n",
            "R Score Test: 0.6342137168309412\n",
            "\n",
            "Selected Features: 16\n",
            "Train RMSE: 6498.9380589841685\n",
            "R Score Train: -0.5571389604121817\n",
            "Test RMSE: 3202.3042484714656\n",
            "R Score Test: 0.6325727130896894\n",
            "\n",
            "Selected Features: 17\n",
            "Train RMSE: 6497.942628771804\n",
            "R Score Train: -0.5566619888070057\n",
            "Test RMSE: 3209.4294694677656\n",
            "R Score Test: 0.6309358210394174\n",
            "\n",
            "Selected Features: 18\n",
            "Train RMSE: 6484.339289764854\n",
            "R Score Train: -0.5501511171784546\n",
            "Test RMSE: 3226.5741230710873\n",
            "R Score Test: 0.6269822348076504\n",
            "\n",
            "Selected Features: 19\n",
            "Train RMSE: 6485.1091871211\n",
            "R Score Train: -0.5505192435346593\n",
            "Test RMSE: 3211.5939497329027\n",
            "R Score Test: 0.6304378499758171\n",
            "\n",
            "Selected Features: 20\n",
            "Train RMSE: 6486.779312751044\n",
            "R Score Train: -0.5513179642043191\n",
            "Test RMSE: 3214.5870024425135\n",
            "R Score Test: 0.6297487003280413\n",
            "\n",
            "Selected Features: 21\n",
            "Train RMSE: 6478.013816268639\n",
            "R Score Train: -0.5471282472251031\n",
            "Test RMSE: 3233.0968587883117\n",
            "R Score Test: 0.6254725495868223\n",
            "\n",
            "Selected Features: 22\n",
            "Train RMSE: 6453.403056176211\n",
            "R Score Train: -0.5353951217555608\n",
            "Test RMSE: 3258.223169877864\n",
            "R Score Test: 0.6196285796086387\n",
            "\n",
            "Selected Features: 23\n",
            "Train RMSE: 6469.081985345044\n",
            "R Score Train: -0.5428648536085732\n",
            "Test RMSE: 3257.738015163576\n",
            "R Score Test: 0.6197418470179507\n",
            "\n",
            "Selected Features: 24\n",
            "Train RMSE: 6471.51361015988\n",
            "R Score Train: -0.5440249482150921\n",
            "Test RMSE: 3260.088728709415\n",
            "R Score Test: 0.6191928768499899\n",
            "\n",
            "Selected Features: 25\n",
            "Train RMSE: 6472.949971797142\n",
            "R Score Train: -0.5447104213379861\n",
            "Test RMSE: 3246.0720763878644\n",
            "R Score Test: 0.6224603747479469\n",
            "\n",
            "Selected Features: 26\n",
            "Train RMSE: 6470.3065572312335\n",
            "R Score Train: -0.5434490254435802\n",
            "Test RMSE: 3252.8662028669937\n",
            "R Score Test: 0.6208783172520731\n",
            "\n",
            "Selected Features: 27\n",
            "Train RMSE: 6469.870608755984\n",
            "R Score Train: -0.543241047173741\n",
            "Test RMSE: 3261.7789710874085\n",
            "R Score Test: 0.6187979040454717\n",
            "\n",
            "Selected Features: 28\n",
            "Train RMSE: 6475.24477222286\n",
            "R Score Train: -0.5458058818320002\n",
            "Test RMSE: 3274.2043019503167\n",
            "R Score Test: 0.6158880907965756\n",
            "\n",
            "Selected Features: 29\n",
            "Train RMSE: 6473.141801072849\n",
            "R Score Train: -0.5448019793056524\n",
            "Test RMSE: 3285.588771879289\n",
            "R Score Test: 0.6132123183513056\n",
            "\n",
            "Selected Features: 30\n",
            "Train RMSE: 6473.671055158456\n",
            "R Score Train: -0.545054600430896\n",
            "Test RMSE: 3285.2513114143862\n",
            "R Score Test: 0.613291767641425\n",
            "\n",
            "Selected Features: 31\n",
            "Train RMSE: 6478.865254080109\n",
            "R Score Train: -0.547534967585642\n",
            "Test RMSE: 3288.7497967378513\n",
            "R Score Test: 0.6124677129196751\n",
            "\n",
            "Selected Features: 32\n",
            "Train RMSE: 6472.316602263545\n",
            "R Score Train: -0.5444081404128607\n",
            "Test RMSE: 3288.0230267076727\n",
            "R Score Test: 0.6126389729724457\n",
            "\n",
            "Selected Features: 33\n",
            "Train RMSE: 6475.067571459669\n",
            "R Score Train: -0.5457212783170327\n",
            "Test RMSE: 3286.0472416361313\n",
            "R Score Test: 0.613104366420021\n",
            "\n",
            "Selected Features: 34\n",
            "Train RMSE: 6476.357307877654\n",
            "R Score Train: -0.5463371086686488\n",
            "Test RMSE: 3291.610055022311\n",
            "R Score Test: 0.6117933384522704\n",
            "\n",
            "Selected Features: 35\n",
            "Train RMSE: 6475.917924673858\n",
            "R Score Train: -0.5461272958146581\n",
            "Test RMSE: 3282.1386342188885\n",
            "R Score Test: 0.6140242094233648\n",
            "\n",
            "Selected Features: 36\n",
            "Train RMSE: 6465.984389749143\n",
            "R Score Train: -0.5413876649814251\n",
            "Test RMSE: 3294.953754158116\n",
            "R Score Test: 0.6110042379507987\n",
            "\n",
            "Selected Features: 37\n",
            "Train RMSE: 6465.205085498007\n",
            "R Score Train: -0.5410161399357571\n",
            "Test RMSE: 3292.731877124416\n",
            "R Score Test: 0.6115286819361194\n",
            "\n",
            "Selected Features: 38\n",
            "Train RMSE: 6455.632992966521\n",
            "R Score Train: -0.5364563992189604\n",
            "Test RMSE: 3282.8024899587426\n",
            "R Score Test: 0.6138680562648604\n",
            "\n",
            "Selected Features: 39\n",
            "Train RMSE: 6457.331211571556\n",
            "R Score Train: -0.5372648658833341\n",
            "Test RMSE: 3294.6821591768803\n",
            "R Score Test: 0.6110683632468545\n",
            "\n",
            "Selected Features: 40\n",
            "Train RMSE: 6455.808541374565\n",
            "R Score Train: -0.5365399622537534\n",
            "Test RMSE: 3291.358944707964\n",
            "R Score Test: 0.6118525672046462\n",
            "\n",
            "Selected Features: 41\n",
            "Train RMSE: 6458.051838779316\n",
            "R Score Train: -0.5376079973305545\n",
            "Test RMSE: 3289.9857694640514\n",
            "R Score Test: 0.6121763746473289\n",
            "\n",
            "Selected Features: 42\n",
            "Train RMSE: 6453.903912486532\n",
            "R Score Train: -0.535633458698366\n",
            "Test RMSE: 3289.1577269509708\n",
            "R Score Test: 0.6123715694350196\n",
            "\n",
            "Selected Features: 43\n",
            "Train RMSE: 6453.156318530064\n",
            "R Score Train: -0.5352777162463362\n",
            "Test RMSE: 3292.2598534188833\n",
            "R Score Test: 0.6116400511788729\n",
            "\n",
            "Selected Features: 44\n",
            "Train RMSE: 6453.469735337321\n",
            "R Score Train: -0.5354268505618076\n",
            "Test RMSE: 3288.393130878856\n",
            "R Score Test: 0.6125517643371607\n",
            "\n",
            "Selected Features: 45\n",
            "Train RMSE: 6456.018200525931\n",
            "R Score Train: -0.536639765367039\n",
            "Test RMSE: 3296.1323524015866\n",
            "R Score Test: 0.6107259021968399\n",
            "\n",
            "Selected Features: 46\n",
            "Train RMSE: 6452.190070852961\n",
            "R Score Train: -0.534817988512253\n",
            "Test RMSE: 3293.6529929420353\n",
            "R Score Test: 0.611311307950767\n",
            "\n",
            "Selected Features: 47\n",
            "Train RMSE: 6450.96801352941\n",
            "R Score Train: -0.5342366485585082\n",
            "Test RMSE: 3296.2256265720844\n",
            "R Score Test: 0.6107038704769774\n",
            "\n",
            "Selected Features: 48\n",
            "Train RMSE: 6448.289881698082\n",
            "R Score Train: -0.5329630303696464\n",
            "Test RMSE: 3301.2425241351198\n",
            "R Score Test: 0.6095179412869447\n",
            "\n",
            "Selected Features: 49\n",
            "Train RMSE: 6449.520542567051\n",
            "R Score Train: -0.5335482204510853\n",
            "Test RMSE: 3291.463224087667\n",
            "R Score Test: 0.6118279716406876\n",
            "\n",
            "Selected Features: 50\n",
            "Train RMSE: 6451.485904569759\n",
            "R Score Train: -0.5344829989687987\n",
            "Test RMSE: 3299.0390385214314\n",
            "R Score Test: 0.6100390386852732\n",
            "\n"
          ]
        }
      ]
    },
    {
      "cell_type": "code",
      "metadata": {
        "id": "pS8Lo8Zz317N",
        "colab": {
          "base_uri": "https://localhost:8080/"
        },
        "outputId": "b3a9140e-98eb-46c4-f784-87d6d2374f66"
      },
      "source": [
        "print('>'*40 + 'RandomForestRegressor'+ '<'*40)\n",
        "for index in range(1 , 51):\n",
        "    grad_selection = RFE(RandomForestRegressor(n_estimators=100 , random_state=0), n_features_to_select=index)\n",
        "    grad_selection.fit(X_train , y_train)\n",
        "    X_train_r = grad_selection.transform(X_train)\n",
        "    X_test_r = grad_selection.transform(X_test)\n",
        "    print(f'Selected Features: {index}')\n",
        "    _randomForest_train(X_train_r , X_test_r , y_train , y_test )\n",
        "    print()"
      ],
      "execution_count": null,
      "outputs": [
        {
          "output_type": "stream",
          "name": "stdout",
          "text": [
            ">>>>>>>>>>>>>>>>>>>>>>>>>>>>>>>>>>>>>>>>RandomForestRegressor<<<<<<<<<<<<<<<<<<<<<<<<<<<<<<<<<<<<<<<<\n",
            "Selected Features: 1\n",
            "Train RMSE: 5961.727797023456\n",
            "R Score Train: -0.31034863769521315\n",
            "Test RMSE: 5548.522993416647\n",
            "R Score Test: -0.1030647419203119\n",
            "\n",
            "Selected Features: 2\n",
            "Train RMSE: 6082.0129466940825\n",
            "R Score Train: -0.36375782710645743\n",
            "Test RMSE: 5595.557973636776\n",
            "R Score Test: -0.12184542773697138\n",
            "\n",
            "Selected Features: 3\n",
            "Train RMSE: 6148.302900212507\n",
            "R Score Train: -0.393647968049641\n",
            "Test RMSE: 4683.25298221174\n",
            "R Score Test: 0.21414673915095028\n",
            "\n",
            "Selected Features: 4\n",
            "Train RMSE: 6351.9547974308425\n",
            "R Score Train: -0.4875013662940193\n",
            "Test RMSE: 4233.0732731856815\n",
            "R Score Test: 0.3579663437104904\n",
            "\n",
            "Selected Features: 5\n",
            "Train RMSE: 6501.353914218359\n",
            "R Score Train: -0.5582968485059814\n",
            "Test RMSE: 3638.813179734356\n",
            "R Score Test: 0.5255769939259858\n",
            "\n",
            "Selected Features: 6\n",
            "Train RMSE: 6530.032051988369\n",
            "R Score Train: -0.5720747834685467\n",
            "Test RMSE: 3355.3820754647095\n",
            "R Score Test: 0.596605304331283\n",
            "\n",
            "Selected Features: 7\n",
            "Train RMSE: 6516.519323262418\n",
            "R Score Train: -0.5655752622995069\n",
            "Test RMSE: 3372.8602123382525\n",
            "R Score Test: 0.5923918044967813\n",
            "\n",
            "Selected Features: 8\n",
            "Train RMSE: 6506.212984571399\n",
            "R Score Train: -0.5606270411713472\n",
            "Test RMSE: 3387.8971872296934\n",
            "R Score Test: 0.5887492836197143\n",
            "\n",
            "Selected Features: 9\n",
            "Train RMSE: 6538.807087549658\n",
            "R Score Train: -0.5763027201359225\n",
            "Test RMSE: 3383.5603316353017\n",
            "R Score Test: 0.5898014958432611\n",
            "\n",
            "Selected Features: 10\n",
            "Train RMSE: 6587.3247023850445\n",
            "R Score Train: -0.5997816759463324\n",
            "Test RMSE: 3107.9526333594467\n",
            "R Score Test: 0.6539052546720269\n",
            "\n",
            "Selected Features: 11\n",
            "Train RMSE: 6572.889879186297\n",
            "R Score Train: -0.5927781455940446\n",
            "Test RMSE: 3157.8090711076093\n",
            "R Score Test: 0.6427123877097247\n",
            "\n",
            "Selected Features: 12\n",
            "Train RMSE: 6553.020027039414\n",
            "R Score Train: -0.5831627616556001\n",
            "Test RMSE: 3178.67256749337\n",
            "R Score Test: 0.6379756264670817\n",
            "\n",
            "Selected Features: 13\n",
            "Train RMSE: 6563.649531566124\n",
            "R Score Train: -0.5883029516812646\n",
            "Test RMSE: 3199.3126745957425\n",
            "R Score Test: 0.6332588892684647\n",
            "\n",
            "Selected Features: 14\n",
            "Train RMSE: 6540.670900620246\n",
            "R Score Train: -0.577201462761616\n",
            "Test RMSE: 3223.9058920542975\n",
            "R Score Test: 0.6275989173941283\n",
            "\n",
            "Selected Features: 15\n",
            "Train RMSE: 6539.642533947828\n",
            "R Score Train: -0.576705546077054\n",
            "Test RMSE: 3230.559352591237\n",
            "R Score Test: 0.6260602169652723\n",
            "\n",
            "Selected Features: 16\n",
            "Train RMSE: 6516.954917956822\n",
            "R Score Train: -0.5657845700715536\n",
            "Test RMSE: 3260.107804030228\n",
            "R Score Test: 0.6191884205054557\n",
            "\n",
            "Selected Features: 17\n",
            "Train RMSE: 6520.225800421343\n",
            "R Score Train: -0.5673567100070471\n",
            "Test RMSE: 3264.080819728012\n",
            "R Score Test: 0.6182596829392715\n",
            "\n",
            "Selected Features: 18\n",
            "Train RMSE: 6514.290485627926\n",
            "R Score Train: -0.564504501621544\n",
            "Test RMSE: 3263.4744528721194\n",
            "R Score Test: 0.6184015012263373\n",
            "\n",
            "Selected Features: 19\n",
            "Train RMSE: 6511.442561653161\n",
            "R Score Train: -0.563136857381846\n",
            "Test RMSE: 3264.716012247143\n",
            "R Score Test: 0.6181110945921705\n",
            "\n",
            "Selected Features: 20\n",
            "Train RMSE: 6510.942952898736\n",
            "R Score Train: -0.5628969944358517\n",
            "Test RMSE: 3276.1330456345286\n",
            "R Score Test: 0.615435417988926\n",
            "\n",
            "Selected Features: 21\n",
            "Train RMSE: 6493.344063285789\n",
            "R Score Train: -0.5544594827168412\n",
            "Test RMSE: 3268.732729113134\n",
            "R Score Test: 0.6171708086765774\n",
            "\n",
            "Selected Features: 22\n",
            "Train RMSE: 6485.955881972997\n",
            "R Score Train: -0.5509241410695984\n",
            "Test RMSE: 3260.7692348511114\n",
            "R Score Test: 0.6190338820163584\n",
            "\n"
          ]
        }
      ]
    },
    {
      "cell_type": "code",
      "metadata": {
        "id": "Cj86DTPz317N"
      },
      "source": [
        ""
      ],
      "execution_count": 83,
      "outputs": []
    },
    {
      "cell_type": "code",
      "metadata": {
        "colab": {
          "base_uri": "https://localhost:8080/"
        },
        "id": "Fdq2_zDtWPmX",
        "outputId": "83d16916-62fa-448b-ceb5-9b02ba2d9ce7"
      },
      "source": [
        "grad_sel = RFE(GradientBoostingRegressor(n_estimators=100 , random_state=0), n_features_to_select=4)\n",
        "grad_sel.fit(X_train , y_train)\n",
        "X_train_g = grad_sel.transform(X_train)\n",
        "X_test_g = grad_sel.transform(X_test)\n",
        "print(f'Selected Features: {4}')\n",
        "_randomForest_train(X_train_g , X_test_g , y_train , y_test )"
      ],
      "execution_count": 59,
      "outputs": [
        {
          "output_type": "stream",
          "name": "stdout",
          "text": [
            "Selected Features: 4\n",
            "Train RMSE: 6885.333049143121\n",
            "R Score Train: -0.7478029988319388\n",
            "Test RMSE: 2614.36195652199\n",
            "R Score Test: 0.7551062772318131\n"
          ]
        }
      ]
    },
    {
      "cell_type": "code",
      "metadata": {
        "colab": {
          "base_uri": "https://localhost:8080/"
        },
        "id": "gRXJJGTvW2eU",
        "outputId": "07ebf1f5-f650-4baa-dd92-435ecc2d23ca"
      },
      "source": [
        "best_feat1 = X_train.columns[(grad_sel.get_support())]\n",
        "len(best_feat1)"
      ],
      "execution_count": 61,
      "outputs": [
        {
          "output_type": "execute_result",
          "data": {
            "text/plain": [
              "4"
            ]
          },
          "metadata": {},
          "execution_count": 61
        }
      ]
    },
    {
      "cell_type": "code",
      "metadata": {
        "colab": {
          "base_uri": "https://localhost:8080/"
        },
        "id": "SgNLmyyWXILi",
        "outputId": "2f84d148-9c63-4a1a-9207-571e38ac6c64"
      },
      "source": [
        "best_feat1"
      ],
      "execution_count": 62,
      "outputs": [
        {
          "output_type": "execute_result",
          "data": {
            "text/plain": [
              "Index(['Day', 'Month', 'Year', 'Start_hour'], dtype='object')"
            ]
          },
          "metadata": {},
          "execution_count": 62
        }
      ]
    },
    {
      "cell_type": "code",
      "metadata": {
        "colab": {
          "base_uri": "https://localhost:8080/"
        },
        "id": "woBUdFyJW49J",
        "outputId": "1b1ee5b4-e96d-4a0d-b4aa-cd4efd3c015d"
      },
      "source": [
        "forest_selection = RFE(RandomForestRegressor(n_estimators=100 , random_state=0, n_jobs=1), n_features_to_select=10)\n",
        "forest_selection.fit(X_train , y_train)\n",
        "X_train_g = forest_selection.transform(X_train)\n",
        "X_test_g = forest_selection.transform(X_test)\n",
        "print(f'Selected Features: {10}')\n",
        "_randomForest_train(X_train_g , X_test_g , y_train , y_test )"
      ],
      "execution_count": 63,
      "outputs": [
        {
          "output_type": "stream",
          "name": "stdout",
          "text": [
            "Selected Features: 10\n",
            "Train RMSE: 6587.3247023850445\n",
            "R Score Train: -0.5997816759463324\n",
            "Test RMSE: 3107.9526333594467\n",
            "R Score Test: 0.6539052546720269\n"
          ]
        }
      ]
    },
    {
      "cell_type": "code",
      "metadata": {
        "colab": {
          "base_uri": "https://localhost:8080/"
        },
        "id": "iunN0Jd0YGg0",
        "outputId": "ff4c9bd8-0cd4-498c-f63d-e45ad249447c"
      },
      "source": [
        "best_feat2 = X_train.columns[(forest_selection.get_support())]\n",
        "len(best_feat2)"
      ],
      "execution_count": 65,
      "outputs": [
        {
          "output_type": "execute_result",
          "data": {
            "text/plain": [
              "10"
            ]
          },
          "metadata": {},
          "execution_count": 65
        }
      ]
    },
    {
      "cell_type": "code",
      "metadata": {
        "colab": {
          "base_uri": "https://localhost:8080/"
        },
        "id": "PkpJfKXjbfCK",
        "outputId": "e3664f73-e7ef-42b8-f471-5305cd4d3bfd"
      },
      "source": [
        "best_feat2"
      ],
      "execution_count": 67,
      "outputs": [
        {
          "output_type": "execute_result",
          "data": {
            "text/plain": [
              "Index(['Madrid_wind_speed', 'Barcelona_pressure', 'Bilbao_pressure',\n",
              "       'Valencia_humidity', 'Valencia_temp_min', 'Bilbao_temp', 'Day', 'Month',\n",
              "       'Year', 'Start_hour'],\n",
              "      dtype='object')"
            ]
          },
          "metadata": {},
          "execution_count": 67
        }
      ]
    },
    {
      "cell_type": "code",
      "metadata": {
        "id": "xuLJbGqsotH1"
      },
      "source": [
        ""
      ],
      "execution_count": null,
      "outputs": []
    },
    {
      "cell_type": "code",
      "metadata": {
        "id": "yJ5OPeQfbg8R"
      },
      "source": [
        "best_features = ['Day', 'Month', 'Year', 'Start_hour']"
      ],
      "execution_count": 68,
      "outputs": []
    },
    {
      "cell_type": "code",
      "metadata": {
        "colab": {
          "base_uri": "https://localhost:8080/"
        },
        "id": "YJsHHGzudCBV",
        "outputId": "800c86f2-35e2-4902-f3e2-40d2d26b4270"
      },
      "source": [
        "X = df_test[best_features]\n",
        "X.columns"
      ],
      "execution_count": 69,
      "outputs": [
        {
          "output_type": "execute_result",
          "data": {
            "text/plain": [
              "Index(['Day', 'Month', 'Year', 'Start_hour'], dtype='object')"
            ]
          },
          "metadata": {},
          "execution_count": 69
        }
      ]
    },
    {
      "cell_type": "code",
      "metadata": {
        "id": "Nw2yZwRSdNpU"
      },
      "source": [
        ""
      ],
      "execution_count": 110,
      "outputs": []
    },
    {
      "cell_type": "code",
      "metadata": {
        "id": "JkHN0GngfqcI"
      },
      "source": [
        "#Train a model\n",
        "regression = [\n",
        "    # GradientBoostingRegressor(n_estimators=100 , random_state=0),\n",
        "    # LinearRegression(),\n",
        "    RandomForestRegressor(n_estimators=100, random_state=0 , n_jobs=1)\n",
        "    ]"
      ],
      "execution_count": 77,
      "outputs": []
    },
    {
      "cell_type": "code",
      "metadata": {
        "colab": {
          "base_uri": "https://localhost:8080/"
        },
        "id": "-uKbcb1Afsho",
        "outputId": "230094b1-2d76-45ed-dc36-7cf0bf73e7fa"
      },
      "source": [
        "from sklearn import metrics\n",
        "print('-'*40 + 'Trained Succesfully' + '-'*40 + '\\n')\n",
        "for items in regression:\n",
        "    model = items\n",
        "    model.fit(X_train[best_features],y_train)\n",
        "    train_model = model.predict(X_train[best_features])\n",
        "    test_model = model.predict(X_test[best_features])\n",
        "    \n",
        "  \n",
        "    #Dictionary of results\n",
        "    results_dict = {'Training':\n",
        "                        {\n",
        "                            \"RMSE\": np.sqrt(metrics.mean_squared_error(y_train, train_model)),\n",
        "                            'R2 Score': r2_score(y_train ,train_model)\n",
        "                            \n",
        "                        },\n",
        "                    'Test':\n",
        "                        {\n",
        "                            \"RMSE\": np.sqrt(metrics.mean_squared_error(y_test, test_model)),\n",
        "                            'R2 Score': r2_score(y_test ,test_model)\n",
        "\n",
        "                        }\n",
        "                    \n",
        "                   }\n",
        "    scores = pd.DataFrame(data=results_dict)\n",
        "    print(scores)\n",
        "    print('-'*50+'End'+'-'*50)\n",
        "    print()\n",
        "    y_pred =  model.predict(X)\n",
        "    daf = pd.DataFrame(y_pred, columns=['load_shortfall_3h'])\n",
        "    output = pd.DataFrame({\"time\": df_test_copy['time'].reset_index(drop=True)})\n",
        "    submissionF = output.join(daf)\n",
        "    submissionF['load_shortfall_3h'] = daf.values\n",
        "    submissionF.to_csv(\"submissionF.csv\", index=False)\n",
        "    print(submissionF)\n",
        "\n"
      ],
      "execution_count": 82,
      "outputs": [
        {
          "output_type": "stream",
          "name": "stdout",
          "text": [
            "----------------------------------------Trained Succesfully----------------------------------------\n",
            "\n",
            "            Training         Test\n",
            "RMSE      961.322765  2614.361957\n",
            "R2 Score    0.965627     0.755106\n",
            "--------------------------------------------------End--------------------------------------------------\n",
            "\n",
            "                    time  load_shortfall_3h\n",
            "0    2018-01-01 00:00:00       11749.896667\n",
            "1    2018-01-01 03:00:00       10373.820000\n",
            "2    2018-01-01 06:00:00        6631.756667\n",
            "3    2018-01-01 09:00:00        8010.643333\n",
            "4    2018-01-01 12:00:00        9841.376667\n",
            "...                  ...                ...\n",
            "2915 2018-12-31 09:00:00         123.926667\n",
            "2916 2018-12-31 12:00:00        2197.706667\n",
            "2917 2018-12-31 15:00:00        2029.643333\n",
            "2918 2018-12-31 18:00:00        2176.426667\n",
            "2919 2018-12-31 21:00:00        2906.006667\n",
            "\n",
            "[2920 rows x 2 columns]\n"
          ]
        }
      ]
    }
  ]
}